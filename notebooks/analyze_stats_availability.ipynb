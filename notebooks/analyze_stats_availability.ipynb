{
 "cells": [
  {
   "cell_type": "code",
   "execution_count": null,
   "id": "cd8ed31a",
   "metadata": {},
   "outputs": [],
   "source": [
    "# Import libraries\n",
    "import pandas as pd\n",
    "import matplotlib.pyplot as plt\n",
    "import seaborn as sns\n",
    "\n",
    "# Load matches data\n",
    "df = pd.read_csv('../data/raw/Matches.csv', parse_dates=['MatchDate'])\n",
    "\n",
    "# Check statistics availability by year\n",
    "stats_cols = ['HomeShots', 'AwayShots', 'HomeTarget', 'AwayTarget', \n",
    "              'HomeFouls', 'AwayFouls', 'HomeCorners', 'AwayCorners']\n",
    "\n",
    "df['Year'] = df['MatchDate'].dt.year\n",
    "stats_availability = df.groupby('Year')[stats_cols].count() / len(df.groupby('Year'))\n",
    "\n",
    "# Plot availability\n",
    "plt.figure(figsize=(12, 6))\n",
    "stats_availability.plot(marker='o')\n",
    "plt.title('Match Statistics Availability by Year')\n",
    "plt.xlabel('Year')\n",
    "plt.ylabel('% of Matches with Statistics')\n",
    "plt.grid(True)\n",
    "plt.xticks(rotation=45)\n",
    "plt.tight_layout()\n",
    "plt.show()\n",
    "\n",
    "# Print first year with complete statistics\n",
    "complete_years = stats_availability[stats_availability.mean(axis=1) > 0.95].index\n",
    "if len(complete_years) > 0:\n",
    "    print(f\"\\nFirst year with complete statistics: {complete_years[0]}\")\n",
    "    print(f\"Number of matches from {complete_years[0]}: {len(df[df['Year'] >= complete_years[0]])}\")\n",
    "    print(f\"Total number of matches: {len(df)}\")"
   ]
  }
 ],
 "metadata": {
  "language_info": {
   "name": "python"
  }
 },
 "nbformat": 4,
 "nbformat_minor": 5
}
